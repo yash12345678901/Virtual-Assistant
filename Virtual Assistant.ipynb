{
 "cells": [
  {
   "cell_type": "markdown",
   "metadata": {},
   "source": [
    "### Import the libraries"
   ]
  },
  {
   "cell_type": "code",
   "execution_count": 1,
   "metadata": {},
   "outputs": [],
   "source": [
    "import speech_recognition as sr\n",
    "import os\n",
    "from gtts import gTTS\n",
    "import datetime\n",
    "import warnings\n",
    "import calendar\n",
    "import random\n",
    "import wikipedia\n",
    "\n"
   ]
  },
  {
   "cell_type": "code",
   "execution_count": 2,
   "metadata": {},
   "outputs": [],
   "source": [
    "# Ignore any warnings\n",
    "warnings.filterwarnings('ignore')\n"
   ]
  },
  {
   "cell_type": "code",
   "execution_count": 3,
   "metadata": {},
   "outputs": [],
   "source": [
    "# Record a audio and return it as a string\n",
    "def recordAudio():\n",
    "    \n",
    "    # Record the audio\n",
    "    r = sr.Recognizer() # creating recognizer object\n",
    "    \n",
    "    # open the microphone and start recording\n",
    "    with sr.Microphone() as source:\n",
    "        print('Say Something')\n",
    "        audio = r.listen(source)\n",
    "    \n",
    "    # Use Google speech Recognition\n",
    "    data = ''\n",
    "    try:\n",
    "        data = r.recognize_google(audio)\n",
    "        print('You said:' + data)\n",
    "    except sr.UnknownValueError:  # check for unknown error\n",
    "        print('Google Speech Recognition could not understand audio, unknown error')\n",
    "    except sr.RequestError as e:\n",
    "        print('Request results from From Google Speech Recognition service error ' + e)\n",
    "    \n",
    "    return data\n"
   ]
  },
  {
   "cell_type": "code",
   "execution_count": 4,
   "metadata": {},
   "outputs": [],
   "source": [
    "# A function to get the virtual Assistance Responce\n",
    "def assistantResponce(text):\n",
    "    \n",
    "    print(text)\n",
    "    \n",
    "    # convert text into speech\n",
    "    myobj = gTTS(text = text, lang = 'en', slow = False)\n",
    "    \n",
    "    # Save the converted audio to a file\n",
    "    myobj.save('assistant_response.mp3')\n",
    "    \n",
    "    # Play the converted file\n",
    "    os.system('start assistant_response.mp3')\n",
    " \n"
   ]
  },
  {
   "cell_type": "code",
   "execution_count": 5,
   "metadata": {},
   "outputs": [],
   "source": [
    "# A function for wake words or phrases\n",
    "def wakeWords(text):\n",
    "    WAKE_WORDS = ['hey computer','ok computer']  # A list of wake words\n",
    "    \n",
    "    text = text.lower()  # converting the text to all lower case words\n",
    "    \n",
    "    # check to see if the users command/text contains a wake words or phrases\n",
    "    for phrase in WAKE_WORDS:\n",
    "        if phrase in text:\n",
    "            return True\n",
    "    \n",
    "    # if the wake_word isn't found in the loop\n",
    "    return False\n"
   ]
  },
  {
   "cell_type": "code",
   "execution_count": 6,
   "metadata": {},
   "outputs": [
    {
     "data": {
      "text/plain": [
       "'Today is Saturday November the 28th '"
      ]
     },
     "execution_count": 6,
     "metadata": {},
     "output_type": "execute_result"
    }
   ],
   "source": [
    "# A function to get the current date\n",
    "def getDate():\n",
    "    \n",
    "    now = datetime.datetime.now()\n",
    "    my_date = datetime.datetime.today()\n",
    "    weekday = calendar.day_name[my_date.weekday()]  # eg. Wednesday\n",
    "    monthNum = now.month\n",
    "    dayNum = now.day\n",
    "    \n",
    "    # create a list of month\n",
    "    month_names = ['January', 'February','March','April','May','June','July','August','September','October','November','December']\n",
    "    \n",
    "    # A list of ordinal numbers\n",
    "    ordinalNumbers = ['1st', '2nd','3rd','4th','5th','6th','7th','8th','9th','10th','11th','12th','13th','14th','15th','16th','17th',\n",
    "                     '18th','19th','20th','21th','22th','23th','24th','25th','26th','27th','28th','29th','30th','31th']\n",
    "    return 'Today is '+weekday+' '+ month_names[monthNum -1] +' the '+ ordinalNumbers[dayNum-1] +' '\n",
    "\n",
    "\n",
    "getDate()"
   ]
  },
  {
   "cell_type": "code",
   "execution_count": 7,
   "metadata": {},
   "outputs": [],
   "source": [
    "# A function to return a random getting responce\n",
    "def greeting(text):\n",
    "    # Greeting inputs\n",
    "    GREETING_INPUTS = ['hi','hey','holla','greetings','wassup','hello']\n",
    "    \n",
    "    # Greeting Responces\n",
    "    GREETING_RESPONCES = ['howdy','whats good', 'hello', 'hey there']\n",
    "    \n",
    "    # if the users input is a greetings then return return a randomly choosen greeting responce\n",
    "    for word in text.split():\n",
    "        if word.lower() in GREETING_INPUTS:\n",
    "            return random.choice(GREETING_RESPONCES) + '.'\n",
    "        \n",
    "    # if no greetings was detected then return an empty string\n",
    "    return ''"
   ]
  },
  {
   "cell_type": "code",
   "execution_count": 8,
   "metadata": {},
   "outputs": [],
   "source": [
    "# A function to get a person first and last name from the text\n",
    "def getPerson(text):\n",
    "    \n",
    "    wordList = text.split() # splitting the text into a list of words\n",
    "    \n",
    "    for i in range(0, len(wordList)):\n",
    "        if i+3 <= len(wordList) - 1 and wordList[i].lower() == 'who' and wordList[i+1].lower() == 'is':\n",
    "            return wordList[i+2] + ' ' +wordList[i+3]\n",
    "        "
   ]
  },
  {
   "cell_type": "code",
   "execution_count": null,
   "metadata": {},
   "outputs": [
    {
     "name": "stdout",
     "output_type": "stream",
     "text": [
      "Say Something\n",
      "You said:ok computer what's today's date what time is it and who is Rohit Sharma\n",
      "Today is Saturday November the 28th it is2:10p.m .Rohit Gurunath Sharma (born 30 April 1987) is an Indian international cricketer who plays for Mumbai in domestic cricket and captains Mumbai Indians in the Indian Premier League as a right-handed batsman and an occasional right-arm off break bowler. He is the vice-captain of the Indian national team in limited-overs formats.\n",
      "Say Something\n"
     ]
    }
   ],
   "source": [
    "while True:\n",
    "    \n",
    "    # Record the audio\n",
    "    text = recordAudio()\n",
    "    response = ''\n",
    "    \n",
    "    # check for the wake words/phrases\n",
    "    if(wakeWords(text)  == True):\n",
    "        \n",
    "        \n",
    "        # check for the greeting by the user\n",
    "        response = response + greeting(text)\n",
    "        \n",
    "        # check to see if the user said anything to do with the date\n",
    "        if('date' in  text):\n",
    "            get_date = getDate()\n",
    "            response = response + '' + get_date\n",
    "            \n",
    "        # check to see if the user said anything having to do with the time\n",
    "        if('time' in text):\n",
    "            now = datetime.datetime.now()\n",
    "            meridiem = ''\n",
    "            if now.hour >= 12:\n",
    "                meridiem = 'p.m' # post meridiem which means after mid day\n",
    "                hour = now.hour - 12\n",
    "            else:\n",
    "                meridiem = 'a.m' # Ante Meridiem (A.M) before mid day\n",
    "                hour = now.hour\n",
    "                \n",
    "            # convert minute into a proper string\n",
    "            if now.minute < 10:\n",
    "                minute = '0' + str(now.minute)\n",
    "            else:\n",
    "                minute = str(now.minute)\n",
    "            \n",
    "            response = response + '' + 'it is' + str(hour) + ':' + minute + '' + meridiem + ' .'\n",
    "        \n",
    "        # check to see if the user say who is\n",
    "        if('who is' in text):\n",
    "            person = getPerson(text)\n",
    "            wiki = wikipedia.summary(person, sentences = 2)\n",
    "            response = response + '' + wiki\n",
    "            \n",
    "        # Have the assistant respond back using audio and the text from the responce\n",
    "        assistantResponce(response)"
   ]
  },
  {
   "cell_type": "code",
   "execution_count": null,
   "metadata": {},
   "outputs": [],
   "source": []
  },
  {
   "cell_type": "code",
   "execution_count": null,
   "metadata": {},
   "outputs": [],
   "source": []
  },
  {
   "cell_type": "code",
   "execution_count": null,
   "metadata": {},
   "outputs": [],
   "source": []
  },
  {
   "cell_type": "code",
   "execution_count": null,
   "metadata": {},
   "outputs": [],
   "source": []
  }
 ],
 "metadata": {
  "kernelspec": {
   "display_name": "Python 3",
   "language": "python",
   "name": "python3"
  },
  "language_info": {
   "codemirror_mode": {
    "name": "ipython",
    "version": 3
   },
   "file_extension": ".py",
   "mimetype": "text/x-python",
   "name": "python",
   "nbconvert_exporter": "python",
   "pygments_lexer": "ipython3",
   "version": "3.7.9"
  }
 },
 "nbformat": 4,
 "nbformat_minor": 4
}
